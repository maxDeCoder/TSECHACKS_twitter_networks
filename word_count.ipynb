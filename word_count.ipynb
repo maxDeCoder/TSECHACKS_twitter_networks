{
 "cells": [
  {
   "cell_type": "code",
   "execution_count": null,
   "metadata": {},
   "outputs": [],
   "source": [
    "from nltk.corpus import stopwords\n",
    "from tqdm import tqdm\n",
    "\n",
    "import re\n",
    "\n",
    "import pandas as pd\n",
    "stop_words = stopwords.words('english')"
   ]
  },
  {
   "cell_type": "code",
   "execution_count": null,
   "metadata": {},
   "outputs": [],
   "source": [
    "import spacy\n",
    "\n",
    "nlp = spacy.load(\"en_core_web_sm\")"
   ]
  },
  {
   "cell_type": "code",
   "execution_count": null,
   "metadata": {},
   "outputs": [],
   "source": [
    "def remove_stuff(text):\n",
    "    text = re.sub(r'http\\S+', '', text)\n",
    "    text = re.sub(r\"@\\S*\", \"\", text)\n",
    "    text = re.sub(r\"\\s+$\", \"\", text)\n",
    "    text = re.sub(r\"\\s+\", \" \", text)\n",
    "    return text"
   ]
  },
  {
   "cell_type": "code",
   "execution_count": null,
   "metadata": {},
   "outputs": [],
   "source": [
    "df = pd.read_csv(\"./mentioner.csv\")\n",
    "df.columns"
   ]
  },
  {
   "cell_type": "code",
   "execution_count": null,
   "metadata": {},
   "outputs": [],
   "source": [
    "usernames = df[\"user\"].unique()"
   ]
  },
  {
   "cell_type": "code",
   "execution_count": null,
   "metadata": {},
   "outputs": [],
   "source": [
    "wordlist = pd.DataFrame(columns=[\"word\", \"pos\"])\n",
    "word_counts = dict.fromkeys(usernames)"
   ]
  },
  {
   "cell_type": "code",
   "execution_count": null,
   "metadata": {},
   "outputs": [],
   "source": [
    "docs = []\n",
    "\n",
    "for i, tweet in enumerate(tqdm(df[\"text\"])):\n",
    "    tweets = remove_stuff(tweet)\n",
    "    doc = nlp(tweet)\n",
    "\n",
    "    user = df[\"user\"][i]\n",
    "\n",
    "    for token in doc:\n",
    "        text = token.orth_\n",
    "        pos = token.pos_\n",
    "\n",
    "        if pos not in wordlist[\"word\"]:\n",
    "            wordlist = pd.concat((\n",
    "                wordlist,\n",
    "                pd.DataFrame({\n",
    "                    \"word\": [text],\n",
    "                    \"pos\": [pos]\n",
    "                })\n",
    "            ))\n",
    "\n",
    "    docs.append(doc) "
   ]
  },
  {
   "cell_type": "code",
   "execution_count": null,
   "metadata": {},
   "outputs": [],
   "source": [
    "df[\"doc\"]=docs"
   ]
  },
  {
   "cell_type": "code",
   "execution_count": null,
   "metadata": {},
   "outputs": [],
   "source": [
    "wordlist.to_csv(\"./wordlist.csv\", index=False)"
   ]
  },
  {
   "cell_type": "code",
   "execution_count": null,
   "metadata": {},
   "outputs": [],
   "source": [
    "wordlist = pd.read_csv(\"./wordlist.csv\")\n",
    "wordlist"
   ]
  },
  {
   "cell_type": "code",
   "execution_count": null,
   "metadata": {},
   "outputs": [],
   "source": [
    "wordlist.reset_index(drop=True, inplace=True)\n",
    "wordlist.drop_duplicates(inplace=True)\n",
    "wordlist.set_index(\"word\", inplace=True)\n",
    "wordlist"
   ]
  },
  {
   "cell_type": "code",
   "execution_count": null,
   "metadata": {},
   "outputs": [],
   "source": [
    "for user in usernames:\n",
    "    subset = df[df[\"username\"] == user]\n",
    "    wordlist[user] = [0] * len(wordlist)\n",
    "\n",
    "    docs = subset[\"tweet_content\"].map(nlp)\n",
    "\n",
    "    for doc in tqdm(docs, desc=user):\n",
    "        for item in doc:\n",
    "            word = item.orth_\n",
    "            pos = item.pos_\n",
    "\n",
    "            wordlist.loc[(wordlist.index == word) & (wordlist[\"pos\"] == pos), user] += 1"
   ]
  },
  {
   "cell_type": "code",
   "execution_count": null,
   "metadata": {},
   "outputs": [],
   "source": [
    "wordlist.reset_index().to_csv(\"./wordlist.csv\", index=False)"
   ]
  },
  {
   "cell_type": "code",
   "execution_count": null,
   "metadata": {},
   "outputs": [],
   "source": [
    "wordlist.to_csv(\"./wordlist.csv\", index=False)"
   ]
  }
 ],
 "metadata": {
  "kernelspec": {
   "display_name": "Python 3",
   "language": "python",
   "name": "python3"
  },
  "language_info": {
   "codemirror_mode": {
    "name": "ipython",
    "version": 3
   },
   "file_extension": ".py",
   "mimetype": "text/x-python",
   "name": "python",
   "nbconvert_exporter": "python",
   "pygments_lexer": "ipython3",
   "version": "3.8.7"
  },
  "orig_nbformat": 4,
  "vscode": {
   "interpreter": {
    "hash": "063da5ec96525b703b2b4b88ba5015678e29341c0c783b18b72decb99d23a1d2"
   }
  }
 },
 "nbformat": 4,
 "nbformat_minor": 2
}
